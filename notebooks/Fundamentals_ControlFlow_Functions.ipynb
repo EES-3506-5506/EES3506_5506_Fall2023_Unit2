{
 "cells": [
  {
   "cell_type": "markdown",
   "id": "1e5a8215-0853-4154-9139-e90aa243a02a",
   "metadata": {},
   "source": [
    "### This notebook goes over Python __flow control__ and the syntax and utility of __functions__.\n",
    "\n",
    "__Author__: Dr. Beadling. For any questions regarding the contents of this notebook please contact rebecca.beadling@temple.edu."
   ]
  },
  {
   "cell_type": "markdown",
   "id": "33c8c879-2f10-41bc-84e0-c4b1428d649a",
   "metadata": {
    "tags": []
   },
   "source": [
    "### You should be __entering__ this lesson with ...\n",
    "* Having completely worked through `hello_world.ipynb` \n",
    "* Knowledge of the fundamentals of the structure of a Jupyter notebook including how to execute cells, cell types, how to format Markdown cells, and the usefulness of including Markdown throughout your notebooks for descriptive documentation.\n",
    "* Python fundamentals including import statements, data types, basic arithematic operations, logical (boolean) operators, indexing (remember our first element is always [0] in Python!!)\n",
    "* Knowledge of how to use git status, git commit, git push.\n",
    "\n",
    "### You should be __leaving__ this lesson with ...\n",
    "* The ability to use statements for __Control flow__ within your code including the use of: `if`, `else`, `elif`, `for loops`, and `while loops`.\n",
    "* An understanding of the syntax of a __function__ within python including __defining functions__ and for __calling the function__.\n",
    "* The ability to write basic functions, which contain control flow statements, that return a desired result.\n",
    "\n",
    "\n",
    "Control flow is the order in which individual statements, instructions, or function calls are executed or evaluated. The control flow of a Python program is regulated by conditional statements, loops, and function calls.\n"
   ]
  },
  {
   "cell_type": "code",
   "execution_count": 2,
   "id": "73c4ed8a-9d36-4d99-a53b-4b8a6e6349c5",
   "metadata": {
    "tags": []
   },
   "outputs": [],
   "source": [
    "# import the entire numpy library, giving it the alias 'np'\n",
    "import numpy as np"
   ]
  },
  {
   "cell_type": "markdown",
   "id": "06597327-42a2-48ec-8f5e-cb38ddf4f692",
   "metadata": {},
   "source": [
    "### The term __Control Flow__ in programming refers to __the order__ in which individual statements are executed or evaluated. The __control flow__ of a Python program is regulated by conditional statements (`if`, `while`, `if else` `if elif else`), loops (`for` loops, `while` loops), and function calls. We will go over each of these in this lesson.\n",
    "\n",
    "### You can think of control flow as your _\"recipe\"_ as if you were cooking your dinner. There is a particular order in which you need to complete tasks and combine ingredients to create your desired dish. Imagine we wanted to cook up some Cauliflower Bacon Mac n Cheese."
   ]
  },
  {
   "cell_type": "markdown",
   "id": "34a9452e-888d-4d93-9ee4-81a2bda4195c",
   "metadata": {
    "tags": []
   },
   "source": [
    "![](https://img.hellofresh.com/hellofresh_s3/image/cauliflower-bacon-mac-n-cheese-bda3eb35.jpg)"
   ]
  },
  {
   "cell_type": "markdown",
   "id": "b82fa3bf-56fd-4905-8bf9-3aae7e948045",
   "metadata": {},
   "source": [
    "#### __To create the dish in the image above, we must follow the instructions below__.\n",
    "\n",
    "1. Wash and dry all produce. \n",
    "2. Preheat oven to 400 degrees. \n",
    "3. Bring a large pot of salted water to a boil. \n",
    "4. Thinly slice scallions, keeping greens and whites separate. \n",
    "5. Toss cauliflower on a baking sheet with a large drizzle of olive oil and a pinch of salt and pepper. \n",
    "6. Roast in oven until tender, 20-25 minutes.\n",
    "7. Once water is boiling, add cavatappi to pot. \n",
    "8. Cook, stirring occasionally, until al dente, 9-11 minutes. \n",
    "9. Drain.\n",
    "10. Heat a large pan over medium-high heat (use an ovenproof pan if you have one). \n",
    "11. Add bacon and cook, turning occasionally, until just browned and crispy, 4-6 minutes. \n",
    "12. Remove from pan and set aside to drain on paper towels. \n",
    "13. Pour out all but 1 tsp grease in pan.\n",
    "14. Crumble bacon into small pieces with hands. \n",
    "15. Stir bacon, cavatappi, and ¾ of the cauliflower into sauce in pan. \n",
    "    (TIP: __If__ your pan is not ovenproof, transfer mixture to a medium, lightly oiled baking dish at this point.\n",
    "16. Scatter remaining cauliflower over top. \n",
    "17. Bake in oven until bubbly, 5-7 minutes.\n",
    "18. Divide mac ’n’ cheese between plates. \n",
    "19. Garnish with scallion greens and serve."
   ]
  },
  {
   "cell_type": "markdown",
   "id": "f3e1ddd3-b170-42ee-aa62-3e9d4cc45f95",
   "metadata": {
    "tags": []
   },
   "source": [
    "### There are certain steps in the recipe above that __must__ be done before others, i.e., to cook our mac 'n' cheese we must do things in a __certain order__.\n",
    "* Before we roast the cauliflower in the oven (Step 6), we first need to Preheat the oven (Step 2) --- otherwise it won't roast!\n",
    "* Before we add the pasta to the pot (Step 7), we must have first brought the water to a boil (Step 3).\n",
    "* Before we crumble bacon with our hands (Step 14), we must have first cooked the bacon (Step 11)."
   ]
  },
  {
   "cell_type": "markdown",
   "id": "a585245b-55b3-4cda-83f1-1a913d937e0e",
   "metadata": {},
   "source": [
    "### You should also notice in the recipe above there are several `if` statements that allow for some flexibility in your recipe or different __possible flow of control__.\n",
    "* In step 10, `if` we had an ovenproof pan, we could have used that instead of a regular large pan.\n",
    "* In step 15, `if` we did not use an ovenproof pan we needed to transfer our mixture to a medium, lightly oiled baking dish. But `if` we did use an ovenproof pan, we could have skipped this step!\n",
    "\n",
    "#### You could imagine that you could introduce many more `if` statements into your recipe to customize it to an individuals preferences: \n",
    "* `if` you are a vegetarian, you could have used a substitute for bacon in step 11. \n",
    "* `if` you wanted to air-fry your cauliflower instead of baking it, you would have had a very different set of instructions regarding cooktime, etc."
   ]
  },
  {
   "cell_type": "markdown",
   "id": "aef026a1-07ec-4834-b046-694e91621104",
   "metadata": {},
   "source": [
    "# if Statements\n",
    "### The `if` statement evaluates an expression, and `if` that expression is `True`, it then executes the code that follows. The `if` statement is a __Conditional Statement__, i.e., it requires the result of the statement immediately after it to evaluate to `True` for the code to execute. When writing flow control statements, __indentation is mandatory__ and __code blocks__ are closed by identation."
   ]
  },
  {
   "cell_type": "code",
   "execution_count": 11,
   "id": "d78e9fe4-b0cc-4a75-bfa8-c5f9718c1201",
   "metadata": {
    "tags": []
   },
   "outputs": [
    {
     "name": "stdout",
     "output_type": "stream",
     "text": [
      "Hi, Dr. Beadling\n"
     ]
    }
   ],
   "source": [
    "name = 'Dr. Beadling'  # Define a variable called name that is equal to the string, Dr. Beadling\n",
    "\n",
    "if name == 'Dr. Beadling': # our statement that must evaluate to True for this code to execute, i.e., name MUST BE EQUAL TO DR. BEADLING\n",
    "    print('Hi, Dr. Beadling')"
   ]
  },
  {
   "cell_type": "markdown",
   "id": "e6d57f5a-38d1-4dae-a836-06089469ca94",
   "metadata": {},
   "source": [
    "### <span style=\"color:red\"> Change the value of the variable name in the first line of the cell above to your name, leave everything else unchanged. Execute the cell again - what is the result? Change it back to Dr. Beadling and run it again - what is the result? Remove the indent in front of the print statement and run it again - what is the result? \n",
    "\n",
    "### <span style=\"color:red\"> In the cell below, write markdown text that explains the behavior observed in the steps above."
   ]
  },
  {
   "cell_type": "code",
   "execution_count": null,
   "id": "a14d8d13-d6c5-41f6-849b-00f7263eb520",
   "metadata": {},
   "outputs": [],
   "source": []
  },
  {
   "cell_type": "markdown",
   "id": "f0577613-267c-4932-8695-6e75d8d8fb0b",
   "metadata": {},
   "source": [
    "### <span style=\"color:red\"> In the cell below, rewrite the code so that it returns __your name__ and execute the cell. Put comments next to each line that explains in _words_ what the statement says."
   ]
  },
  {
   "cell_type": "code",
   "execution_count": null,
   "id": "19aefadb-d17c-45a3-828d-f6b43c3c00ed",
   "metadata": {},
   "outputs": [],
   "source": []
  },
  {
   "cell_type": "markdown",
   "id": "f728fc0d-4d87-447e-8664-69397fa7e217",
   "metadata": {},
   "source": [
    "## It is worth reviewing here from our hello_world.ipynb what our conditional statement options are:\n",
    "\n",
    "#### Comparison operators are used to compare values and evaluate down to a single Boolean value of either `True` or `False`:\n",
    "* #### `==` _Equal to_ : results in a `True` if the 2 operands are equal, and a `False` if unequal.\n",
    "* #### `!=` _Not equal to_ : results in a `True` if the 2 operands are unequal, and a `False` if equal.\n",
    "* #### `<` _Less than_ : results in a `True` if the first operand is smaller than the second, else a `False`.\n",
    "* #### `>` _Greater than_ : results in a `True` if the first operand is greater than the second, else a `False`.\n",
    "* #### `<=` _Less than or equal to_ : results in a `True` if the first operand is lesser than or equal to the second, else a `False`.\n",
    "* #### `>=` _Greater than or equal to_ : results in a `True` if the first operand is greater than or equal to the second, else a `False`."
   ]
  },
  {
   "cell_type": "code",
   "execution_count": 12,
   "id": "b880e89b-3777-4a02-ae10-ebd64934bcea",
   "metadata": {
    "tags": []
   },
   "outputs": [
    {
     "name": "stdout",
     "output_type": "stream",
     "text": [
      "You are not George\n"
     ]
    }
   ],
   "source": [
    "if name != 'George':\n",
    "    print('You are not George')"
   ]
  },
  {
   "cell_type": "markdown",
   "id": "ca6346df-5b0a-4096-87ab-2665992f8662",
   "metadata": {
    "tags": []
   },
   "source": [
    "### <span style=\"color:red\"> Put comments next to each line in the code cell above that explains in _words_ what the statement says. As Markdown in the cell below, describe why did we __not__ have to define our name variable again? What is the current value of your name variable? Change it to your name if it is not!"
   ]
  },
  {
   "cell_type": "code",
   "execution_count": null,
   "id": "a58fc8d3-4247-4a6d-8ce7-d595aee18ede",
   "metadata": {
    "tags": []
   },
   "outputs": [],
   "source": []
  },
  {
   "cell_type": "markdown",
   "id": "35411a8d-2c31-4dff-8c2b-216841484c56",
   "metadata": {},
   "source": [
    "### What if we had a _group of people_ and we wanted code that would say Hi to all of them if they were present?"
   ]
  },
  {
   "cell_type": "code",
   "execution_count": null,
   "id": "93811d5c-ba9e-4b72-acf1-e72eb0ff1c50",
   "metadata": {},
   "outputs": [],
   "source": []
  }
 ],
 "metadata": {
  "kernelspec": {
   "display_name": "Python 3 (ipykernel)",
   "language": "python",
   "name": "python3"
  },
  "language_info": {
   "codemirror_mode": {
    "name": "ipython",
    "version": 3
   },
   "file_extension": ".py",
   "mimetype": "text/x-python",
   "name": "python",
   "nbconvert_exporter": "python",
   "pygments_lexer": "ipython3",
   "version": "3.9.16"
  }
 },
 "nbformat": 4,
 "nbformat_minor": 5
}
