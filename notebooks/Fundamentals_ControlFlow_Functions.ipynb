{
 "cells": [
  {
   "cell_type": "markdown",
   "id": "1e5a8215-0853-4154-9139-e90aa243a02a",
   "metadata": {},
   "source": [
    "### This notebook goes over Python __flow control__ and the syntax and utility of __functions__.\n",
    "\n",
    "__Author__: Dr. Beadling. For any questions regarding the contents of this notebook please contact rebecca.beadling@temple.edu."
   ]
  },
  {
   "cell_type": "markdown",
   "id": "33c8c879-2f10-41bc-84e0-c4b1428d649a",
   "metadata": {
    "tags": []
   },
   "source": [
    "### You should be __entering__ this lesson with ...\n",
    "* Having completely worked through `hello_world.ipynb` \n",
    "* Knowledge of the fundamentals of the structure of a Jupyter notebook including how to execute cells, cell types, how to format Markdown cells, and the usefulness of including Markdown throughout your notebooks for descriptive documentation.\n",
    "* Python fundamentals including import statements, data types, basic arithematic operations, logical (boolean) operators, indexing (remember our first element is always [0] in Python!!)\n",
    "* Knowledge of how to use git status, git commit, git push.\n",
    "\n",
    "### You should be __leaving__ this lesson with ...\n",
    "* The ability to use statements for __Control flow__ within your code including the use of: `if`, `else`, `elif`, `for loops`, and `while loops`.\n",
    "* An understanding of the syntax of a __function__ within Python including __defining functions__ and for __calling the function__.\n",
    "* The ability to write basic functions, which contain control flow statements, that return a desired result.\n",
    "\n",
    "\n",
    "Control flow is the order in which individual statements, instructions, or function calls are executed or evaluated. The control flow of a Python program is regulated by conditional statements, loops, and function calls.\n"
   ]
  },
  {
   "cell_type": "code",
   "execution_count": 2,
   "id": "73c4ed8a-9d36-4d99-a53b-4b8a6e6349c5",
   "metadata": {
    "tags": []
   },
   "outputs": [],
   "source": [
    "# import the entire numpy library, giving it the alias 'np'\n",
    "import numpy as np"
   ]
  },
  {
   "cell_type": "markdown",
   "id": "06597327-42a2-48ec-8f5e-cb38ddf4f692",
   "metadata": {},
   "source": [
    "### The term __Control Flow__ in programming refers to __the order__ in which individual statements are executed or evaluated. The __control flow__ of a Python program is regulated by conditional statements (`if`, `while`, `if else` `if elif else`), loops (`for` loops, `while` loops), and function calls. We will go over each of these in this lesson.\n",
    "\n",
    "### You can think of control flow as your _\"recipe\"_ as if you were cooking your dinner. There is a particular order in which you need to complete tasks and combine ingredients to create your desired dish. Imagine we wanted to cook up some Cauliflower Bacon Mac n Cheese."
   ]
  },
  {
   "cell_type": "markdown",
   "id": "34a9452e-888d-4d93-9ee4-81a2bda4195c",
   "metadata": {
    "tags": []
   },
   "source": [
    "![](https://img.hellofresh.com/hellofresh_s3/image/cauliflower-bacon-mac-n-cheese-bda3eb35.jpg)"
   ]
  },
  {
   "cell_type": "markdown",
   "id": "b82fa3bf-56fd-4905-8bf9-3aae7e948045",
   "metadata": {},
   "source": [
    "#### __To create the dish in the image above, we must follow the instructions below__.\n",
    "\n",
    "1. Wash and dry all produce. \n",
    "2. Preheat oven to 400 degrees. \n",
    "3. Bring a large pot of salted water to a boil. \n",
    "4. Thinly slice scallions, keeping greens and whites separate. \n",
    "5. Toss cauliflower on a baking sheet with a large drizzle of olive oil and a pinch of salt and pepper. \n",
    "6. Roast in oven until tender, 20-25 minutes.\n",
    "7. Once water is boiling, add cavatappi to pot. \n",
    "8. Cook, stirring occasionally, until al dente, 9-11 minutes. \n",
    "9. Drain.\n",
    "10. Heat a large pan over medium-high heat (use an ovenproof pan if you have one). \n",
    "11. Add bacon and cook, turning occasionally, until just browned and crispy, 4-6 minutes. \n",
    "12. Remove from pan and set aside to drain on paper towels. \n",
    "13. Pour out all but 1 tsp grease in pan.\n",
    "14. Crumble bacon into small pieces with hands. \n",
    "15. Stir bacon, cavatappi, and ¾ of the cauliflower into sauce in pan. \n",
    "    (TIP: __If__ your pan is not ovenproof, transfer mixture to a medium, lightly oiled baking dish at this point.\n",
    "16. Scatter remaining cauliflower over top. \n",
    "17. Bake in oven until bubbly, 5-7 minutes.\n",
    "18. Divide mac ’n’ cheese between plates. \n",
    "19. Garnish with scallion greens and serve."
   ]
  },
  {
   "cell_type": "markdown",
   "id": "f3e1ddd3-b170-42ee-aa62-3e9d4cc45f95",
   "metadata": {
    "tags": []
   },
   "source": [
    "### There are certain steps in the recipe above that __must__ be done before others, i.e., to cook our mac 'n' cheese we must do things in a __certain order__.\n",
    "* Before we roast the cauliflower in the oven (Step 6), we first need to Preheat the oven (Step 2) --- otherwise it won't roast!\n",
    "* Before we add the pasta to the pot (Step 7), we must have first brought the water to a boil (Step 3).\n",
    "* Before we crumble bacon with our hands (Step 14), we must have first cooked the bacon (Step 11)."
   ]
  },
  {
   "cell_type": "markdown",
   "id": "a585245b-55b3-4cda-83f1-1a913d937e0e",
   "metadata": {},
   "source": [
    "### You should also notice in the recipe above there are several `if` statements that allow for some flexibility in your recipe or different __possible flow of control__.\n",
    "* In step 10, `if` we had an ovenproof pan, we could have used that instead of a regular large pan.\n",
    "* In step 15, `if` we did not use an ovenproof pan we needed to transfer our mixture to a medium, lightly oiled baking dish. But `if` we did use an ovenproof pan, we could have skipped this step!\n",
    "\n",
    "#### You could imagine that you could introduce many more `if` statements into your recipe to customize it to an individuals preferences: \n",
    "* `if` you are a vegetarian, you could have used a substitute for bacon in step 11. \n",
    "* `if` you wanted to air-fry your cauliflower instead of baking it, you would have had a very different set of instructions regarding cooktime, etc."
   ]
  },
  {
   "cell_type": "markdown",
   "id": "aef026a1-07ec-4834-b046-694e91621104",
   "metadata": {},
   "source": [
    "# if Statements\n",
    "### The `if` statement evaluates an expression, and `if` that expression is `True`, it then executes the code that follows. The `if` statement is a __Conditional Statement__, i.e., it requires the result of the statement immediately after it to evaluate to `True` for the code to execute. When writing flow control statements, __indentation is mandatory__ and __code blocks__ are closed by identation."
   ]
  },
  {
   "cell_type": "code",
   "execution_count": 46,
   "id": "d78e9fe4-b0cc-4a75-bfa8-c5f9718c1201",
   "metadata": {
    "tags": []
   },
   "outputs": [
    {
     "name": "stdout",
     "output_type": "stream",
     "text": [
      "Hi, Dr. Beadling\n"
     ]
    }
   ],
   "source": [
    "name = 'Dr. Beadling'  # Define a variable called name that is equal to the string, Dr. Beadling\n",
    "\n",
    "if name == 'Dr. Beadling': # our statement that must evaluate to True for this code to execute, i.e., name MUST BE EQUAL TO DR. BEADLING\n",
    "    print('Hi, Dr. Beadling')"
   ]
  },
  {
   "cell_type": "markdown",
   "id": "e6d57f5a-38d1-4dae-a836-06089469ca94",
   "metadata": {},
   "source": [
    "### <span style=\"color:red\"> Change the value of the variable name in the first line of the cell above to your name, leave everything else unchanged. Execute the cell again - what is the result? Change it back to Dr. Beadling and run it again - what is the result? Remove the indent in front of the print statement and run it again - what is the result? \n",
    "\n",
    "### <span style=\"color:red\"> In the cell below, write markdown text that explains the behavior observed in the steps above."
   ]
  },
  {
   "cell_type": "code",
   "execution_count": null,
   "id": "a14d8d13-d6c5-41f6-849b-00f7263eb520",
   "metadata": {},
   "outputs": [],
   "source": []
  },
  {
   "cell_type": "markdown",
   "id": "f0577613-267c-4932-8695-6e75d8d8fb0b",
   "metadata": {},
   "source": [
    "### <span style=\"color:red\"> In the cell below, rewrite the code so that it returns __your name__ and execute the cell. Put comments next to each line that explains in _words_ what the statement says."
   ]
  },
  {
   "cell_type": "code",
   "execution_count": null,
   "id": "19aefadb-d17c-45a3-828d-f6b43c3c00ed",
   "metadata": {},
   "outputs": [],
   "source": []
  },
  {
   "cell_type": "markdown",
   "id": "f728fc0d-4d87-447e-8664-69397fa7e217",
   "metadata": {},
   "source": [
    "## It is worth reviewing here from our hello_world.ipynb what our conditional statement options are:\n",
    "\n",
    "#### Comparison operators are used to compare values and evaluate down to a single Boolean value of either `True` or `False`:\n",
    "* #### `==` _Equal to_ : results in a `True` if the 2 operands are equal, and a `False` if unequal.\n",
    "* #### `!=` _Not equal to_ : results in a `True` if the 2 operands are unequal, and a `False` if equal.\n",
    "* #### `<` _Less than_ : results in a `True` if the first operand is smaller than the second, else a `False`.\n",
    "* #### `>` _Greater than_ : results in a `True` if the first operand is greater than the second, else a `False`.\n",
    "* #### `<=` _Less than or equal to_ : results in a `True` if the first operand is lesser than or equal to the second, else a `False`.\n",
    "* #### `>=` _Greater than or equal to_ : results in a `True` if the first operand is greater than or equal to the second, else a `False`."
   ]
  },
  {
   "cell_type": "code",
   "execution_count": 47,
   "id": "b880e89b-3777-4a02-ae10-ebd64934bcea",
   "metadata": {
    "tags": []
   },
   "outputs": [
    {
     "name": "stdout",
     "output_type": "stream",
     "text": [
      "You are not George\n"
     ]
    }
   ],
   "source": [
    "if name != 'George':\n",
    "    print('You are not George')"
   ]
  },
  {
   "cell_type": "markdown",
   "id": "ca6346df-5b0a-4096-87ab-2665992f8662",
   "metadata": {
    "tags": []
   },
   "source": [
    "### <span style=\"color:red\"> Put comments next to each line in the code cell above that explains in _words_ what the statement says. As Markdown in the cell below, describe why did we __not__ have to define our name variable again? What is the current value of your name variable? Change it to your name if it is not!"
   ]
  },
  {
   "cell_type": "code",
   "execution_count": null,
   "id": "a58fc8d3-4247-4a6d-8ce7-d595aee18ede",
   "metadata": {
    "tags": []
   },
   "outputs": [],
   "source": []
  },
  {
   "cell_type": "markdown",
   "id": "35411a8d-2c31-4dff-8c2b-216841484c56",
   "metadata": {},
   "source": [
    "#### What if we wanted an option to say _something_ instead of returning nothing if the name is not ours? i.e., we want more possible options in our recipe. \n",
    "\n",
    "#### We can use an `else` statement in combination with `if` that will execute the code following `else` if the statment following the `if` statement evaluates to `False`."
   ]
  },
  {
   "cell_type": "code",
   "execution_count": 48,
   "id": "93811d5c-ba9e-4b72-acf1-e72eb0ff1c50",
   "metadata": {},
   "outputs": [
    {
     "name": "stdout",
     "output_type": "stream",
     "text": [
      "You are not Dr. Beadling\n"
     ]
    }
   ],
   "source": [
    "name = 'George'  # assign value 'George' to variable name.\n",
    "\n",
    "if name == 'Dr. Beadling':    # our statement must evaluate to True for this code below to execute.\n",
    "    print('Hi, Dr. Beadling.')\n",
    "else:                         # if the statement following `if` above evaluates to False, THEN do this.\n",
    "    print('You are not Dr. Beadling')"
   ]
  },
  {
   "cell_type": "markdown",
   "id": "a868ea4f-af62-45e6-889f-75dbfc72ce15",
   "metadata": {},
   "source": [
    "#### We can use an `elif` statement in combination with an `if` statement or in combination with `if` and `else` to add more possible outcomes to our code. `elif` stands for \"else if\", i.e, similar to `else`, the code following the `elif` will execute if the statement following `if` evaluates to `False` __and__ the statement following `elif` evaluates to `True`.\n",
    "\n",
    "### <span style=\"color:red\"> Explore what happens in the code below if you switch the name from George to Nancy. Do you understand why this occurs?"
   ]
  },
  {
   "cell_type": "code",
   "execution_count": 49,
   "id": "29dccd52-94d3-4c0d-b0ad-c720ad780caf",
   "metadata": {
    "tags": []
   },
   "outputs": [
    {
     "name": "stdout",
     "output_type": "stream",
     "text": [
      "Hi George!\n"
     ]
    }
   ],
   "source": [
    "name = 'George' # assign value 'George' to variable name\n",
    "\n",
    "if name == 'Debora': # our statement must evaluate to True for this code below to execute.\n",
    "    print('Hi Debora!') \n",
    "elif name == 'George': # our statement must evaluate to True for this code below to execute.\n",
    "    print('Hi George!')"
   ]
  },
  {
   "cell_type": "markdown",
   "id": "3253dd0e-975a-47e1-9457-6e646e5d1a53",
   "metadata": {},
   "source": [
    "### <span style=\"color:red\"> Before you run the cell below, make a prediction of what the result will be. Explain why."
   ]
  },
  {
   "cell_type": "code",
   "execution_count": 50,
   "id": "9d5d6fd9-6d60-4e5c-806d-e1f08d19ca73",
   "metadata": {
    "tags": []
   },
   "outputs": [
    {
     "name": "stdout",
     "output_type": "stream",
     "text": [
      "Who are you?\n"
     ]
    }
   ],
   "source": [
    "name = 'Dr. Beadling'\n",
    "\n",
    "if name == 'Debora':\n",
    "    print('Hi Debora!')\n",
    "elif name == 'George':\n",
    "    print('Hi George!')\n",
    "else:\n",
    "    print('Who are you?')"
   ]
  },
  {
   "cell_type": "code",
   "execution_count": 51,
   "id": "8af89d4c-f4b3-4fcc-92c6-403094ed63c1",
   "metadata": {
    "tags": []
   },
   "outputs": [
    {
     "name": "stdout",
     "output_type": "stream",
     "text": [
      "Positive Number\n"
     ]
    }
   ],
   "source": [
    "x = 100\n",
    "if x > 0:\n",
    "    print('Positive Number')\n",
    "elif x < 0:\n",
    "    print('Negative Number')\n",
    "else:\n",
    "    print ('Zero!')"
   ]
  },
  {
   "cell_type": "markdown",
   "id": "9baa2863-5cd5-49ef-818e-51f789dd2551",
   "metadata": {},
   "source": [
    "### We can nest `if` statements within `if` statements. Remember that indentation is mandatory!!!"
   ]
  },
  {
   "cell_type": "code",
   "execution_count": 52,
   "id": "dac58925-7a94-4e34-aaaa-867a68fdd272",
   "metadata": {
    "tags": []
   },
   "outputs": [
    {
     "name": "stdout",
     "output_type": "stream",
     "text": [
      "Positive Number\n",
      "Huge number!\n"
     ]
    }
   ],
   "source": [
    "if x > 0:\n",
    "    print('Positive Number')\n",
    "    if x >= 100:\n",
    "        print('Huge number!')"
   ]
  },
  {
   "cell_type": "markdown",
   "id": "12542f34-01d1-483d-b6f3-ca0d74acc3d1",
   "metadata": {},
   "source": [
    "### Voila! That is basic, yet powerful, Control Flow in Python!"
   ]
  },
  {
   "cell_type": "markdown",
   "id": "5ac45321-34d5-4112-9ae2-60eb7cdcecdc",
   "metadata": {},
   "source": [
    "### <span style=\"color:red\"> Take 5 minutes and write three progams (in 3 code cells below) that incorporate `if`, `else`, and / or `elif` statements to produce a desired outcome. We have used mostly `str` data types so far in our examples, but incorporate another one of Python's data types in one of your programs. Accompanying your code, write using either comments within the code cell, or Markdown above the cell, what your code does, describing each line. Explain your code to the person sitting next to you after you are done."
   ]
  },
  {
   "cell_type": "code",
   "execution_count": null,
   "id": "cf55f69d-9d8b-49c5-b3fb-0ec4a9e0be37",
   "metadata": {},
   "outputs": [],
   "source": []
  },
  {
   "cell_type": "code",
   "execution_count": null,
   "id": "18157e8a-835e-47f9-b601-7a07ae399e56",
   "metadata": {},
   "outputs": [],
   "source": []
  },
  {
   "cell_type": "code",
   "execution_count": null,
   "id": "7a14fd0b-22f6-4e22-9f49-de802edcbe9e",
   "metadata": {},
   "outputs": [],
   "source": []
  },
  {
   "cell_type": "markdown",
   "id": "667fa198-0d51-4099-9334-66adad38b772",
   "metadata": {
    "tags": []
   },
   "source": [
    "# The power of __looping__.\n",
    "### Python has two primitive loop commands:\n",
    "* `while` loops\n",
    "* `for` loops\n",
    "\n",
    "### A loop is powerful because it allows for __repeated execution__ of code. This means that the code is continually repeated __until a certain condition__, defined by the user, is reached."
   ]
  },
  {
   "cell_type": "markdown",
   "id": "dce2d35f-7a54-4470-8188-9e042e945d8d",
   "metadata": {},
   "source": [
    "## While Statements / Loops\n",
    "### The `while` statement is used for __repeated execution__ of statements as long as the expression being evaluated is `True`. Just like any other Control Flow statement, indentation is mandatory!! The `while` loop requires relevant variables to be ready, in the example below we need to define an __indexing variable__, planets, which we set initially to 0."
   ]
  },
  {
   "cell_type": "code",
   "execution_count": 18,
   "id": "ebbc0c36-13ea-4a8f-8b9b-151a3c2a6c27",
   "metadata": {
    "tags": []
   },
   "outputs": [
    {
     "name": "stdout",
     "output_type": "stream",
     "text": [
      "planets\n",
      "planets\n",
      "planets\n",
      "planets\n",
      "planets\n",
      "planets\n",
      "planets\n",
      "planets\n"
     ]
    }
   ],
   "source": [
    "planets = 0                # define a variable planet that is equal to zero (0)\n",
    "while planets < 8:             # while the value of planet is LESS THAN (<) 8, do the following ..\n",
    "    print('planets')            # print the word planet\n",
    "    planets = planets + 1      # THEN take the value of planet and add 1 to it, i.e., INCREMENT by 1"
   ]
  },
  {
   "cell_type": "markdown",
   "id": "1060a75e-8bb3-4e5b-baeb-9bc3f4abb098",
   "metadata": {},
   "source": [
    "#### In words, the code above does the following:"
   ]
  },
  {
   "cell_type": "markdown",
   "id": "97886e46-638e-457b-ad28-f50d6f76fe53",
   "metadata": {},
   "source": [
    "* define a variable named planets and set it equal to 1\n",
    "* while the value of 'planets' is less than 8, do the following:\n",
    "* print the word 'planet'\n",
    "* set the variable planets equal to the current value of planets plus 1.\n",
    "* Now repeat the same exact steps above, but for the new value of planets.\n",
    "* Repeat UNTIL the value of planets is NO LONGER < 8 (i.e., execution of the code will stop when planets < 8 is `False`)\n",
    "\n",
    "### The last point here where we increment a variable by 1 and update the original value is a __key concept__ to grasp. Take a minute a work through __by hand__ each step of the code above."
   ]
  },
  {
   "cell_type": "markdown",
   "id": "e730a076-2af4-49a9-b124-3d0798571b3b",
   "metadata": {},
   "source": [
    "### <span style=\"color:red\"> If we changed our initial value of `planets` in the example code above to 5, how many times would planets would be printed out? Make a prediction and then test your code. Place your answer in the cell below."
   ]
  },
  {
   "cell_type": "code",
   "execution_count": null,
   "id": "7ebaacbe-2865-4a17-88f8-8aaa130c80fe",
   "metadata": {},
   "outputs": [],
   "source": []
  },
  {
   "cell_type": "markdown",
   "id": "5b546145-5869-4822-b27e-953fc7637450",
   "metadata": {},
   "source": [
    "### Another `while` loop example using integer values:"
   ]
  },
  {
   "cell_type": "code",
   "execution_count": 23,
   "id": "f993203d-484e-4733-a215-74a103438f49",
   "metadata": {
    "tags": []
   },
   "outputs": [
    {
     "name": "stdout",
     "output_type": "stream",
     "text": [
      "1\n",
      "2\n",
      "3\n",
      "4\n",
      "5\n"
     ]
    }
   ],
   "source": [
    "i = 1\n",
    "while i < 6:\n",
    "  print(i)\n",
    "  i = i+1"
   ]
  },
  {
   "cell_type": "markdown",
   "id": "5419bcf5-df8b-4bf9-a315-136f46c577b9",
   "metadata": {},
   "source": [
    "### A short notation for writing the increment operation is shown in the code below. Instead of writing out `planets = planets + 1`, we can write `planets += 1` and achieve the same behavior. You will often encounter it written this way."
   ]
  },
  {
   "cell_type": "code",
   "execution_count": 24,
   "id": "01d10c81-fc6f-459c-a7c5-4e34e4cdda04",
   "metadata": {
    "tags": []
   },
   "outputs": [
    {
     "name": "stdout",
     "output_type": "stream",
     "text": [
      "planets\n",
      "planets\n",
      "planets\n",
      "planets\n",
      "planets\n",
      "planets\n",
      "planets\n",
      "planets\n"
     ]
    }
   ],
   "source": [
    "planets = 0                # define a variable planet that is equal to zero (0)\n",
    "while planets < 8:         # while the value of planet is LESS THAN (<) 8, do the following ..\n",
    "    print('planets')       # print the word planet\n",
    "    planets += 1           # THEN take the value of planet and add 1 to it, i.e., INCREMENT by 1"
   ]
  },
  {
   "cell_type": "markdown",
   "id": "3bff2438-5ef5-4c86-892c-7553e4db10bf",
   "metadata": {},
   "source": [
    "## For Statements / Loops"
   ]
  },
  {
   "cell_type": "markdown",
   "id": "064faa29-87aa-4c5c-bc76-1b6cf5444539",
   "metadata": {},
   "source": [
    "### A `for` loop is used for __iterating over a sequence__ (that is either a `list`, a `tuple` (we haven't covered this), a `dictionary`, a `set` (we haven't covered this), or a `string`). Within a `for` loop, we can execute a set of statements, __once for each item (element)__ in a list, tuple, string etc."
   ]
  },
  {
   "cell_type": "markdown",
   "id": "6045bb8e-c649-4f62-82ff-2e8085d73395",
   "metadata": {},
   "source": [
    "### The following code prints each element in the list `fruits`:"
   ]
  },
  {
   "cell_type": "code",
   "execution_count": 25,
   "id": "309ec302-8028-4a51-871b-974eec9934f6",
   "metadata": {
    "tags": []
   },
   "outputs": [
    {
     "name": "stdout",
     "output_type": "stream",
     "text": [
      "apple\n",
      "banana\n",
      "cherry\n"
     ]
    }
   ],
   "source": [
    "fruits = [\"apple\", \"banana\", \"cherry\"] # define a variable fruits that is equal to the following list\n",
    "for x in fruits:                       # for every element, x, inside of the list fruits ... do the following\n",
    "  print(x)                             # print the element"
   ]
  },
  {
   "cell_type": "markdown",
   "id": "f98d7fff-6810-42ec-afd3-868d6d650cdf",
   "metadata": {},
   "source": [
    "### An important (and initially confusing!) point to note:\n",
    "* the variable `x` in the code above is just an arbitrary variable that represents each element in the sequence. You could change this to element, or, y, or z, or beadling, or climate, or even fruits. It does not matter, it just represents an element!\n",
    "Note in the below that you can change this variable to any name!"
   ]
  },
  {
   "cell_type": "code",
   "execution_count": 30,
   "id": "a16f6239-64a2-4f21-bce6-9c2f331c331c",
   "metadata": {
    "tags": []
   },
   "outputs": [
    {
     "name": "stdout",
     "output_type": "stream",
     "text": [
      "apple\n",
      "banana\n",
      "cherry\n"
     ]
    }
   ],
   "source": [
    "fruits = [\"apple\", \"banana\", \"cherry\"]        # define a variable fruits that is equal to the following list\n",
    "for elements in fruits:                       # for each element, x, inside of the list fruits ... do the following\n",
    "  print(elements)                             # print the element"
   ]
  },
  {
   "cell_type": "markdown",
   "id": "7351c26c-95ee-49fe-8998-dc83837d9eea",
   "metadata": {},
   "source": [
    "### Even strings are iterable objects, they contain a sequence of characters:"
   ]
  },
  {
   "cell_type": "code",
   "execution_count": 45,
   "id": "7260218a-9742-4cd1-88ec-35ce8e8e7930",
   "metadata": {
    "tags": []
   },
   "outputs": [
    {
     "name": "stdout",
     "output_type": "stream",
     "text": [
      "c\n",
      "l\n",
      "i\n",
      "m\n",
      "a\n",
      "t\n",
      "e\n"
     ]
    }
   ],
   "source": [
    "for x in \"climate\":\n",
    "  print(x)"
   ]
  },
  {
   "cell_type": "markdown",
   "id": "299dab51-bc62-43f5-a5d2-cb3143362e4d",
   "metadata": {},
   "source": [
    "### Using `else` inside of a `for` or `while` loop specifies a block of code to be executed when the loop is finished:"
   ]
  },
  {
   "cell_type": "code",
   "execution_count": 44,
   "id": "bf1077aa-5d1f-4db2-afb0-aebc7436a72d",
   "metadata": {
    "tags": []
   },
   "outputs": [
    {
     "name": "stdout",
     "output_type": "stream",
     "text": [
      "0\n",
      "1\n",
      "2\n",
      "3\n",
      "i is no longer less than 4\n"
     ]
    }
   ],
   "source": [
    "i = 0\n",
    "while i < 4:\n",
    "    print(i)\n",
    "    i += 1\n",
    "else:\n",
    "    print(\"i is no longer less than 4\")"
   ]
  },
  {
   "cell_type": "code",
   "execution_count": 43,
   "id": "00dc7a1f-1540-41ed-b2df-f45bed7b1708",
   "metadata": {
    "tags": []
   },
   "outputs": [
    {
     "name": "stdout",
     "output_type": "stream",
     "text": [
      "c\n",
      "l\n",
      "i\n",
      "m\n",
      "a\n",
      "t\n",
      "e\n",
      " \n",
      "m\n",
      "o\n",
      "d\n",
      "e\n",
      "l\n",
      "i\n",
      "n\n",
      "g\n",
      "\n",
      "The word is done!\n"
     ]
    }
   ],
   "source": [
    "for x in \"climate modeling\":\n",
    "    print(x)\n",
    "else:\n",
    "    print()                     ## adds a space between the letters and the statement below.\n",
    "    print(\"The word is done!\")  ## print the string in the \"\"."
   ]
  },
  {
   "cell_type": "markdown",
   "id": "55d56643-a9ef-4cc3-b9ed-802b0ae86764",
   "metadata": {},
   "source": [
    "### <span style=\"color:red\"> Take 5 minutes and write 4 different progams, 2 while loops and 2 for loops in the code cells below. Accompanying your code, write using either comments within the code cell, or Markdown above the cell, what your code does, describing each line. Explain your code to the person sitting next to you after you are done."
   ]
  },
  {
   "cell_type": "code",
   "execution_count": null,
   "id": "566929ca-54c2-4897-a6e1-f1b16f3d904a",
   "metadata": {},
   "outputs": [],
   "source": []
  },
  {
   "cell_type": "code",
   "execution_count": null,
   "id": "fa5a1758-e17e-465c-a1c2-51d04c5c20ed",
   "metadata": {},
   "outputs": [],
   "source": []
  },
  {
   "cell_type": "code",
   "execution_count": null,
   "id": "53f4deea-c6e2-4ce7-b726-3718ec53d6c5",
   "metadata": {},
   "outputs": [],
   "source": []
  },
  {
   "cell_type": "code",
   "execution_count": null,
   "id": "69264207-6d45-42fc-a253-2af58339d817",
   "metadata": {},
   "outputs": [],
   "source": []
  },
  {
   "cell_type": "markdown",
   "id": "77851f08-58f6-415d-89c3-9ace04cddecd",
   "metadata": {},
   "source": [
    "# Defining Functions"
   ]
  },
  {
   "cell_type": "code",
   "execution_count": null,
   "id": "25ad133f-db6d-42d6-b172-df8d7613a04c",
   "metadata": {},
   "outputs": [],
   "source": []
  }
 ],
 "metadata": {
  "kernelspec": {
   "display_name": "Python 3 (ipykernel)",
   "language": "python",
   "name": "python3"
  },
  "language_info": {
   "codemirror_mode": {
    "name": "ipython",
    "version": 3
   },
   "file_extension": ".py",
   "mimetype": "text/x-python",
   "name": "python",
   "nbconvert_exporter": "python",
   "pygments_lexer": "ipython3",
   "version": "3.9.16"
  }
 },
 "nbformat": 4,
 "nbformat_minor": 5
}
