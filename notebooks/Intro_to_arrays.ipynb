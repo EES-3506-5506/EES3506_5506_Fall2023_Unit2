{
 "cells": [
  {
   "cell_type": "markdown",
   "id": "45343637-bef6-4a7a-ad12-20868ede2863",
   "metadata": {},
   "source": [
    "### This notebook goes over the fundamentals of Python arrays: NumPy arrays, Pandas DataFrames, and Xarray DataArrays.\n",
    "\n",
    "__Author__: Dr. Beadling. For any questions regarding the contents of this notebook please contact rebecca.beadling@temple.edu."
   ]
  },
  {
   "cell_type": "markdown",
   "id": "a42863f4-f6b6-408c-b781-4b7209df08c4",
   "metadata": {},
   "source": [
    "### You should be __entering__ this lesson with ...\n",
    "* Having completely worked through `hello_world.ipynb` and `Fundamentals_ControlFlow_Funtions.ipynb` \n",
    "* Knowledge of the fundamentals of the structure of a Jupyter notebook. \n",
    "* Knowledge of Python fundamentals including syntax, variable assignemnt, data types, indexing, arthematic, control flow, and functions.\n",
    "* Knowledge of how to use git status, git commit, git push."
   ]
  },
  {
   "cell_type": "markdown",
   "id": "b54aa2d9-f266-48bd-bde1-042e28b8c641",
   "metadata": {},
   "source": [
    "### You should be __leaving__ this lesson with ...\n",
    "* An understanding of what an array is in Python\n",
    "* An understanding of the differences an similarities between NumPy Arrays, Pandas Dataframes, and Xarray DataArrays."
   ]
  },
  {
   "cell_type": "code",
   "execution_count": 3,
   "id": "37f49e93-3463-4a91-85de-690117db7d06",
   "metadata": {
    "tags": []
   },
   "outputs": [],
   "source": [
    "import numpy as np\n",
    "import pandas as pd\n",
    "import xarray as xr\n",
    "import matplotlib as plt"
   ]
  },
  {
   "cell_type": "code",
   "execution_count": 4,
   "id": "94007acd-29d2-4c45-8aeb-a5ea5b668cc4",
   "metadata": {
    "tags": []
   },
   "outputs": [],
   "source": [
    "%matplotlib inline                           \n",
    "%config InlineBackend.figure_format='retina' \n",
    "plt.rcParams['figure.figsize'] = 12,6   "
   ]
  },
  {
   "cell_type": "markdown",
   "id": "438e0e07-9abe-457d-b06c-f66531476d34",
   "metadata": {},
   "source": [
    "### In previous lessons in this unit we encountered many different data types within the Python programming language. Some of these data types included __containers__, i.e., data structures that could hold a number be elements at the same time.\n",
    "\n",
    "### <span style=\"color:red\"> What data types have we worked with that you could classify as being containers? Which of them are __ordered__ ? Put your answer in the cell below."
   ]
  },
  {
   "cell_type": "code",
   "execution_count": null,
   "id": "243ddee7-0932-424d-8caa-7fdcd2323c29",
   "metadata": {
    "tags": []
   },
   "outputs": [],
   "source": []
  },
  {
   "cell_type": "markdown",
   "id": "745fa7ca-634f-48cd-809f-6ed07165ffee",
   "metadata": {},
   "source": [
    "### All of the examples of data types that we would consider __containers__ so far, the elements inside of the containers are allowed to be of _any data type_ and can have __multiple data types__. For example:"
   ]
  },
  {
   "cell_type": "code",
   "execution_count": 7,
   "id": "713d0922-0147-4f0a-a151-9988cba982b5",
   "metadata": {
    "tags": []
   },
   "outputs": [],
   "source": [
    "colleges={\"2016-2018\":\"Alabama\",\n",
    "          \"2019\":\"Oklahoma\"}"
   ]
  },
  {
   "cell_type": "code",
   "execution_count": 8,
   "id": "02743be7-cfcc-4a97-8c4d-b5a7dcc06c75",
   "metadata": {
    "tags": []
   },
   "outputs": [],
   "source": [
    "qb_stats = ['Jalen Hurts', 1, colleges, 1.85]"
   ]
  },
  {
   "cell_type": "code",
   "execution_count": 9,
   "id": "9d0193c7-e092-42a4-a956-b1edf7167f15",
   "metadata": {
    "tags": []
   },
   "outputs": [
    {
     "data": {
      "text/plain": [
       "['Jalen Hurts', 1, {'2016-2018': 'Alabama', '2019': 'Oklahoma'}, 1.85]"
      ]
     },
     "execution_count": 9,
     "metadata": {},
     "output_type": "execute_result"
    }
   ],
   "source": [
    "qb_stats"
   ]
  },
  {
   "cell_type": "code",
   "execution_count": 15,
   "id": "65cad8ba-5757-43dc-8435-52a358efcfe0",
   "metadata": {
    "tags": []
   },
   "outputs": [
    {
     "data": {
      "text/plain": [
       "list"
      ]
     },
     "execution_count": 15,
     "metadata": {},
     "output_type": "execute_result"
    }
   ],
   "source": [
    "type(qb_stats)"
   ]
  },
  {
   "cell_type": "code",
   "execution_count": 13,
   "id": "4f9c62b0-342f-45a9-b1d5-93164dddd61a",
   "metadata": {
    "tags": []
   },
   "outputs": [
    {
     "data": {
      "text/plain": [
       "(str, int, dict, float)"
      ]
     },
     "execution_count": 13,
     "metadata": {},
     "output_type": "execute_result"
    }
   ],
   "source": [
    "type(qb_stats[0]), type(qb_stats[1]), type(qb_stats[2]), type(qb_stats[3])"
   ]
  },
  {
   "cell_type": "code",
   "execution_count": 27,
   "id": "65951e5c-f20d-45dc-a078-a548b796ce9f",
   "metadata": {
    "tags": []
   },
   "outputs": [
    {
     "name": "stdout",
     "output_type": "stream",
     "text": [
      "<class 'str'>\n",
      "Jalen Hurts\n",
      "<class 'int'>\n",
      "1\n",
      "<class 'dict'>\n",
      "{'2016-2018': 'Alabama', '2019': 'Oklahoma'}\n",
      "<class 'float'>\n",
      "1.85\n"
     ]
    }
   ],
   "source": [
    "for x in qb_stats:\n",
    "    dtype = type(x)\n",
    "    print(dtype), print(x)"
   ]
  },
  {
   "cell_type": "markdown",
   "id": "1fd027ab-787a-49fd-b5ea-b05ac3336f6e",
   "metadata": {},
   "source": [
    "### An array is also an ordered container, but it is fundamentally different from `lists`, `dicts`, and `tuples`, in that every single element inside of the array has to be of the __same data type__. You can have an array that contains only floats, ints, or only any other Python data type, but you cannot mix and match! \n",
    "\n",
    "### This requirement is very powerful, because it means that we can perform operations across all the elements of the array without running into errors (if we are of course using an appropriate operation). Arrays are not built in data structures, so we must import specific python packages to create and work with them."
   ]
  },
  {
   "cell_type": "markdown",
   "id": "37b0379b-0fb0-4d8f-8cb4-8302ecc7e118",
   "metadata": {},
   "source": [
    "### One of the most common Array structures you will work with in Python when performing numerical calculations or working with numerical data is a __NumPy Array, or a \"n-dimensional array\"__, where n >= 2. This means it is an Array with dimensions greater than or equal to 2. We work with NumPy arrays by importing and calling the __Numerical Python (NumPy)__ package. Recall that we imported this package as np at the start of this notebook."
   ]
  },
  {
   "cell_type": "markdown",
   "id": "e357d5e1-b85b-4fd7-b8f0-76d12d00a817",
   "metadata": {},
   "source": [
    "### From [the Numpy user guide](https://numpy.org/doc/stable/user/absolute_beginners.html):\n",
    "\"NumPy (Numerical Python) is an open source Python library that’s __used in almost every field of science and engineering__. It’s the universal standard for working with numerical data in Python, and it’s at the core of the scientific Python and PyData ecosystems. NumPy users include everyone from beginning coders to experienced researchers doing state-of-the-art scientific and industrial research and development. The NumPy API is used extensively in Pandas, SciPy, Matplotlib, scikit-learn, scikit-image and most other data science and scientific Python packages.\""
   ]
  },
  {
   "cell_type": "markdown",
   "id": "aeddbefa-3590-4c33-9ec0-ab991aca61e5",
   "metadata": {
    "tags": []
   },
   "source": [
    "![](https://upload.wikimedia.org/wikipedia/commons/thumb/3/31/NumPy_logo_2020.svg/1200px-NumPy_logo_2020.svg.png)"
   ]
  },
  {
   "cell_type": "markdown",
   "id": "03d557da-51b8-419f-8580-27ee56193c8d",
   "metadata": {},
   "source": [
    "### Is your head spinning with \"n-dimensional array\" ??? IT'S OKAY, STAY WITH ME!"
   ]
  },
  {
   "cell_type": "markdown",
   "id": "1b830e98-5c29-418f-9670-f8c2be281a08",
   "metadata": {},
   "source": [
    "#### You can think about a ndarray (n-dimensional array) as a __grid__ of information. The information in this __grid__ can be accessed via indexing and slicing, just like the `lists` that we encountered earlier."
   ]
  },
  {
   "cell_type": "markdown",
   "id": "81373d52-ae71-4034-92e3-af707d379cde",
   "metadata": {
    "tags": []
   },
   "source": [
    "![](https://predictivehacks.com/wp-content/uploads/2020/08/numpy_arrays.png)"
   ]
  },
  {
   "cell_type": "code",
   "execution_count": 41,
   "id": "50ca8333-5662-4763-b262-40547949db47",
   "metadata": {
    "tags": []
   },
   "outputs": [],
   "source": [
    "array1d = np.array([7,2,9,10])"
   ]
  },
  {
   "cell_type": "code",
   "execution_count": 47,
   "id": "ce62cf1a-4f45-42c8-b9a7-b18559d271fa",
   "metadata": {
    "tags": []
   },
   "outputs": [
    {
     "data": {
      "text/plain": [
       "numpy.ndarray"
      ]
     },
     "execution_count": 47,
     "metadata": {},
     "output_type": "execute_result"
    }
   ],
   "source": [
    "type(array1d)"
   ]
  },
  {
   "cell_type": "code",
   "execution_count": null,
   "id": "405a4087-08cc-4040-8010-1d05e70ab47e",
   "metadata": {},
   "outputs": [],
   "source": []
  }
 ],
 "metadata": {
  "kernelspec": {
   "display_name": "Python 3 (ipykernel)",
   "language": "python",
   "name": "python3"
  },
  "language_info": {
   "codemirror_mode": {
    "name": "ipython",
    "version": 3
   },
   "file_extension": ".py",
   "mimetype": "text/x-python",
   "name": "python",
   "nbconvert_exporter": "python",
   "pygments_lexer": "ipython3",
   "version": "3.9.16"
  }
 },
 "nbformat": 4,
 "nbformat_minor": 5
}
