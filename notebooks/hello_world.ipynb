{
 "cells": [
  {
   "cell_type": "markdown",
   "id": "9c436693-d2a7-44c1-aa27-a7c862998c29",
   "metadata": {},
   "source": [
    "### It is considered a best practice to begin your Jupyter Notebook with informative text written using a Markdown cell that describes the purpose of the code within the notebook. This will help you remember what your goal of the notebook is and will help any user of your code become oriented to your notebook.\n",
    "\n",
    "### It is also always a good practice to describe the author of the notebook and your contact information.\n",
    "\n",
    "__Author__: Dr. Beadling. For any questions regarding the contents of this notebook please contact rebecca.beadling@temple.edu.\n",
    "\n",
    "***\n",
    "\n",
    "> #### Markdown is a lightweight markup language that you can use to add __formatting elements__ to plaintext. You can add edit text to add headings, subheadings, edit fontstyle, fontsize, add urls, add symbols, add images, indentation, bullet points, numbering,  etc.\n",
    "> #### Something really neat that you can do is embed graphics within your cells, if you want to add a diagram for example to describe what it is your computing.\n",
    "> #### You can find a nice cheatsheet here for formatting Markdown in your Jupyter Notebook Markdown cells here: https://www.ibm.com/docs/en/watson-studio-local/1.2.3?topic=notebooks-markdown-jupyter-cheatsheet. Use this as a guide throughout the course as your begin to put together your notebooks.\n",
    "\n"
   ]
  },
  {
   "cell_type": "raw",
   "id": "6faad637-ebaf-4528-b93c-3dcf4fd167d2",
   "metadata": {},
   "source": [
    "STUDENTS: In the cell below, change the cell type to Markdown and write text that describes your prior coding experience (if any) and note that this will be your first Jupyter notebook and describe the purpose of it (which is to introduce elements of a Jupyter notebook and fundamentals of Python). Run the cell to see the markdown formatted. Practice using different elements of markdown."
   ]
  },
  {
   "cell_type": "code",
   "execution_count": null,
   "id": "e3e9134a-56de-41f8-b2f8-1990134714f5",
   "metadata": {},
   "outputs": [],
   "source": []
  },
  {
   "cell_type": "markdown",
   "id": "91678cd8-5558-47b4-bb56-42d2385274a4",
   "metadata": {},
   "source": [
    "## After your descriptive introductory text, the next cell is usually where you find your \"import\" statements."
   ]
  },
  {
   "cell_type": "code",
   "execution_count": 1,
   "id": "ee09737a-2c2e-4fe5-8f4c-e415afb36a29",
   "metadata": {
    "tags": []
   },
   "outputs": [
    {
     "ename": "SyntaxError",
     "evalue": "invalid syntax (1521249258.py, line 1)",
     "output_type": "error",
     "traceback": [
      "\u001b[0;36m  Cell \u001b[0;32mIn[1], line 1\u001b[0;36m\u001b[0m\n\u001b[0;31m    aliases ...\u001b[0m\n\u001b[0m            ^\u001b[0m\n\u001b[0;31mSyntaxError\u001b[0m\u001b[0;31m:\u001b[0m invalid syntax\n"
     ]
    }
   ],
   "source": [
    "... aliases ...\n",
    "... magic functions ...."
   ]
  },
  {
   "cell_type": "code",
   "execution_count": 2,
   "id": "036483a1-82b8-4322-9ec1-c4897b60d951",
   "metadata": {
    "tags": []
   },
   "outputs": [
    {
     "ename": "SyntaxError",
     "evalue": "invalid syntax (2030859197.py, line 1)",
     "output_type": "error",
     "traceback": [
      "\u001b[0;36m  Cell \u001b[0;32mIn[2], line 1\u001b[0;36m\u001b[0m\n\u001b[0;31m    --- data types ---\u001b[0m\n\u001b[0m             ^\u001b[0m\n\u001b[0;31mSyntaxError\u001b[0m\u001b[0;31m:\u001b[0m invalid syntax\n"
     ]
    }
   ],
   "source": [
    "--- data types ---, numbers, strings etc ..."
   ]
  },
  {
   "cell_type": "code",
   "execution_count": null,
   "id": "f408fb5c-9b9a-4c6f-82ad-7df15790425a",
   "metadata": {},
   "outputs": [],
   "source": []
  }
 ],
 "metadata": {
  "kernelspec": {
   "display_name": "Python 3 (ipykernel)",
   "language": "python",
   "name": "python3"
  },
  "language_info": {
   "codemirror_mode": {
    "name": "ipython",
    "version": 3
   },
   "file_extension": ".py",
   "mimetype": "text/x-python",
   "name": "python",
   "nbconvert_exporter": "python",
   "pygments_lexer": "ipython3",
   "version": "3.9.16"
  }
 },
 "nbformat": 4,
 "nbformat_minor": 5
}
