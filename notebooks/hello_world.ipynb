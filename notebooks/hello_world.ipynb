{
 "cells": [
  {
   "cell_type": "markdown",
   "id": "9c436693-d2a7-44c1-aa27-a7c862998c29",
   "metadata": {},
   "source": [
    "### It is considered a best practice to begin your Jupyter Notebook with informative text written using a Markdown cell that describes the purpose of the code within the notebook. This will help you remember what your goal of the notebook is and will help any user of your code become oriented to your notebook.\n",
    "\n",
    "### It is also always a good practice to describe the author of the notebook and your contact information.\n",
    "\n",
    "__Author__: Dr. Beadling. For any questions regarding the contents of this notebook please contact rebecca.beadling@temple.edu.\n",
    "\n",
    "***\n",
    "\n",
    "> #### Markdown is a lightweight markup language that you can use to add __formatting elements__ to plaintext. You can add edit text to add headings, subheadings, edit fontstyle, fontsize, add urls, add symbols, add images, indentation, bullet points, numbering,  etc.\n",
    "\n",
    "> # This is a heading!\n",
    "And this is some text.\n",
    ">## And this is a subheading\n",
    "with a bulleted list in it:\n",
    ">\n",
    "> - one\n",
    "> - two\n",
    "> - three\n",
    "\n",
    "> #### Something really neat that you can do is embed graphics within your cells, if you want to add a diagram for example to describe what it is your computing.\n",
    "> #### You can find a cheatsheet here for formatting Markdown in your Jupyter Notebook Markdown cells here: https://www.ibm.com/docs/en/watson-studio-local/1.2.3?topic=notebooks-markdown-jupyter-cheatsheet. \n",
    "> #### And another guide here emphasizing best practices: https://www.markdownguide.org/basic-syntax.\n",
    "> Use these two resources as a guide throughout the course as your begin to put together your notebooks.\n",
    "\n"
   ]
  },
  {
   "cell_type": "raw",
   "id": "6faad637-ebaf-4528-b93c-3dcf4fd167d2",
   "metadata": {},
   "source": [
    "STUDENTS: In the cell below, change the cell type to Markdown and write text that describes your prior coding experience (if any) and note that this will be your first Jupyter notebook and describe the purpose of it (which is to introduce elements of a Jupyter notebook and fundamentals of Python). Experiment with different headings and subheadings, how to bold text, how to italicize, and even take a stab at embedding an image. Run the cell to generate the formatted markdown!"
   ]
  },
  {
   "cell_type": "code",
   "execution_count": null,
   "id": "e3e9134a-56de-41f8-b2f8-1990134714f5",
   "metadata": {},
   "outputs": [],
   "source": []
  },
  {
   "cell_type": "markdown",
   "id": "91678cd8-5558-47b4-bb56-42d2385274a4",
   "metadata": {},
   "source": [
    "### After your descriptive introductory text, the next cell is usually where you find your \"import\" statements. Python itself comes with a limited number of built-in functions (https://docs.python.org/3/library/functions.html), such as:\n",
    "* `print()` : prints expressions out\n",
    "* `abs()` :  returns the absolute value of a number\n",
    "* `int()` :  converts another data type to an integer\n",
    "* `len()`: returns the length of a sequence or collection\n",
    "\n",
    "### To be able to perform advanced computations and produce sophisticated code and data visualizations, one must import specific Python _modules_, _packages_, or _libraries_ designed for specific tasks. \n",
    "\n",
    "### In the cell below, we import the Numerical Python library (NumPy) and assign it an __alias__ of np. The point of assigning aliases is so we do not have to type the entire package name each time we want to call a function from it within our code (this will become more clear later on)."
   ]
  },
  {
   "cell_type": "code",
   "execution_count": 4,
   "id": "ee09737a-2c2e-4fe5-8f4c-e415afb36a29",
   "metadata": {
    "tags": []
   },
   "outputs": [],
   "source": [
    "# anything within a code cell preceeded by a '#' is considered a \"comment\" and thus is not executed.\n",
    "# import the entire numpy library, giving it the alias 'np'\n",
    "import numpy as np\n",
    "\n",
    "# import the matplotlib library for plotting, giving it the alias 'plt'\n",
    "import matplotlib.pyplot as plt  "
   ]
  },
  {
   "cell_type": "markdown",
   "id": "06675175-cbfc-42e9-94f2-3d5108ba6ab4",
   "metadata": {},
   "source": [
    "### After your import statements, you will want to set up some settings within your notebook. The statements in the cell below preceeded by the % sign are referred to as 'magic functions'. You do not need to know the details of these now besides the following:\n",
    ">`%matplotlib inline`:  the output of plotting commands is displayed inline, directly below the code cell that produced it. The resulting plots will then also be stored in the notebook document.\n",
    ">`%config InlineBackend.figure_format='retina'`: to render higher resolution images [more details can be found here: https://ryanwingate.com/visualization/matplotlib/inline-backend-on-retina-displays/]\n",
    "> `plt.rcParams['figure.figsize'] = 12,6`: sets the default figure size to 12 x 6 "
   ]
  },
  {
   "cell_type": "code",
   "execution_count": 6,
   "id": "e5743e56-a5bd-44a9-bb89-ef2fd2ad8892",
   "metadata": {
    "tags": []
   },
   "outputs": [],
   "source": [
    "%matplotlib inline                           \n",
    "%config InlineBackend.figure_format='retina' \n",
    "plt.rcParams['figure.figsize'] = 12,6   "
   ]
  },
  {
   "cell_type": "markdown",
   "id": "de8cf1eb-1ba2-48bd-b31f-aa37cacaaec1",
   "metadata": {
    "tags": []
   },
   "source": [
    "### Our very first Python program can be a single line using the built-in `print` function:"
   ]
  },
  {
   "cell_type": "code",
   "execution_count": 25,
   "id": "f408fb5c-9b9a-4c6f-82ad-7df15790425a",
   "metadata": {},
   "outputs": [
    {
     "name": "stdout",
     "output_type": "stream",
     "text": [
      "Hello World!\n",
      "6\n"
     ]
    }
   ],
   "source": [
    "print(\"Hello World!\")\n",
    "print(2+4)"
   ]
  },
  {
   "cell_type": "raw",
   "id": "1b8075fe-a1c1-4176-a160-52d73b2cae31",
   "metadata": {},
   "source": [
    "STUDENTS: Change the (2+4) in the second line above to (\"2+4\"). How does the output change? Why?"
   ]
  },
  {
   "cell_type": "markdown",
   "id": "080dafb1-ec4d-45d7-b681-84109efe174d",
   "metadata": {},
   "source": [
    "### Congrats, you've written your first Python program!! We can also use Python to do some basic math for us:"
   ]
  },
  {
   "cell_type": "code",
   "execution_count": 18,
   "id": "77ea7164-903f-4652-ab0f-7024d1b18801",
   "metadata": {
    "tags": []
   },
   "outputs": [
    {
     "data": {
      "text/plain": [
       "0"
      ]
     },
     "execution_count": 18,
     "metadata": {},
     "output_type": "execute_result"
    }
   ],
   "source": [
    "2+2 # addition"
   ]
  },
  {
   "cell_type": "code",
   "execution_count": 20,
   "id": "ec6e6698-023d-4e2b-b96e-aec013c23d53",
   "metadata": {
    "tags": []
   },
   "outputs": [
    {
     "data": {
      "text/plain": [
       "16"
      ]
     },
     "execution_count": 20,
     "metadata": {},
     "output_type": "execute_result"
    }
   ],
   "source": [
    "4**2 # raise to exponential"
   ]
  },
  {
   "cell_type": "code",
   "execution_count": 15,
   "id": "18b35ab3-7b39-4031-bbe8-e9c4ee01e5e2",
   "metadata": {
    "tags": []
   },
   "outputs": [
    {
     "data": {
      "text/plain": [
       "20.0"
      ]
     },
     "execution_count": 15,
     "metadata": {},
     "output_type": "execute_result"
    }
   ],
   "source": [
    "100/5 # division"
   ]
  },
  {
   "cell_type": "code",
   "execution_count": 16,
   "id": "1d38388f-a630-406d-a454-ee01d8c88778",
   "metadata": {
    "tags": []
   },
   "outputs": [
    {
     "data": {
      "text/plain": [
       "0.25"
      ]
     },
     "execution_count": 16,
     "metadata": {},
     "output_type": "execute_result"
    }
   ],
   "source": [
    "(0.5)*(0.5) # multiplicaton"
   ]
  },
  {
   "cell_type": "code",
   "execution_count": 22,
   "id": "8bbc26b4-0215-4b7e-9841-2be215062b5c",
   "metadata": {
    "tags": []
   },
   "outputs": [
    {
     "data": {
      "text/plain": [
       "-1"
      ]
     },
     "execution_count": 22,
     "metadata": {},
     "output_type": "execute_result"
    }
   ],
   "source": [
    "4 - 5 # subtraction"
   ]
  },
  {
   "cell_type": "markdown",
   "id": "565b6f03-09bc-4d90-8628-160f8959ef0f",
   "metadata": {},
   "source": [
    "### There are several __data types__ that can exist within Python\n",
    "* Integers (`int`): numerical data __without__ a decimal place, i.e., a whole number.\n",
    "* Floating-point (`float`): numerical  data __with__ a decimal place.\n",
    "* Character strings (`str`): character data denoted by either single quotes '' or double quotes \" \".\n",
    "* A list: an ordered container of objects (can be any type of object) denoted by square brackets [ ].\n",
    "* A dictionary (`dict`): a collection of __labeled__ objects. Python uses curly braces { } to create dictionaries."
   ]
  },
  {
   "cell_type": "code",
   "execution_count": 28,
   "id": "b205e656-8b2c-4c3a-bd1a-ff15ee28a915",
   "metadata": {
    "tags": []
   },
   "outputs": [],
   "source": [
    "## Go through examples of each of these above.\n",
    "## How do Pandas dataframes, xarray dataarrays, datasets, numpby ndarrays fit into this?? -- Explain & show.\n",
    "## Python indexing ... this is VERY important ... see Ryan's point on this!\n",
    "## Do I want to go into loops, if, else statements etc ???\n",
    "## functions ...\n",
    "## Add some exploratory activity here at the end (give students 10 - 15 minutes, followed by brief discussion).\n",
    "## Idea ... create program (create a new cleaned up notebook based off of this one following best practices) \n",
    "## that converts degrees C into Kelvin if user provides C.\n",
    "## Students have to push their new notebook to GithHub ....\n",
    "## Important numpy functions for datascience https://thecleverprogrammer.com/2021/08/28/important-numpy-functions-for-data-science/"
   ]
  },
  {
   "cell_type": "raw",
   "id": "ace1fd94-cd97-4639-9c7e-ec802013e7af",
   "metadata": {
    "tags": []
   },
   "source": [
    "--- end with saving and shutting down the notebook --- see here: https://foundations.projectpythia.org/foundations/jupyterlab.html"
   ]
  },
  {
   "cell_type": "code",
   "execution_count": null,
   "id": "94339ddb-e0e9-425d-8bee-6482f71c917d",
   "metadata": {},
   "outputs": [],
   "source": [
    "## Next notebook .... types of data one would encounter in climate science (.txt, .csv, .json, etc). \n",
    "## Pandas ...."
   ]
  }
 ],
 "metadata": {
  "kernelspec": {
   "display_name": "Python 3 (ipykernel)",
   "language": "python",
   "name": "python3"
  },
  "language_info": {
   "codemirror_mode": {
    "name": "ipython",
    "version": 3
   },
   "file_extension": ".py",
   "mimetype": "text/x-python",
   "name": "python",
   "nbconvert_exporter": "python",
   "pygments_lexer": "ipython3",
   "version": "3.9.16"
  }
 },
 "nbformat": 4,
 "nbformat_minor": 5
}
