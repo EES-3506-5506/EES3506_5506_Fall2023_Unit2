{
 "cells": [
  {
   "cell_type": "markdown",
   "id": "9c436693-d2a7-44c1-aa27-a7c862998c29",
   "metadata": {},
   "source": [
    "### It is considered a best practice to begin your Jupyter Notebook with informative text written using a Markdown cell that describes the purpose of the code within the notebook. This will help you remember what your goal of the notebook is and will help any user of your code become oriented to your notebook.\n",
    "\n",
    "### It is also always a good practice to describe the author of the notebook and your contact information.\n",
    "\n",
    "__Author__: Dr. Beadling. For any questions regarding the contents of this notebook please contact rebecca.beadling@temple.edu.\n",
    "\n",
    "***\n",
    "\n",
    "> #### Markdown is a lightweight markup language that you can use to add __formatting elements__ to plaintext. You can add edit text to add headings, subheadings, edit fontstyle, fontsize, add urls, add symbols, add images, indentation, bullet points, numbering,  etc.\n",
    "\n",
    "> # This is a heading!\n",
    "And this is some text.\n",
    ">## And this is a subheading\n",
    "with a bulleted list in it:\n",
    ">\n",
    "> - one\n",
    "> - two\n",
    "> - three\n",
    "\n",
    "> #### Something really neat that you can do is embed graphics within your cells, if you want to add a diagram for example to describe what it is your computing.\n",
    "> #### You can find a cheatsheet here for formatting Markdown in your Jupyter Notebook Markdown cells here: https://www.ibm.com/docs/en/watson-studio-local/1.2.3?topic=notebooks-markdown-jupyter-cheatsheet. \n",
    "> #### And another guide here emphasizing best practices: https://www.markdownguide.org/basic-syntax.\n",
    "> Use these two resources as a guide throughout the course as your begin to put together your notebooks.\n",
    "\n"
   ]
  },
  {
   "cell_type": "markdown",
   "id": "a44a8a09-3f0a-4a0d-828b-e8bddb8a8ad8",
   "metadata": {
    "tags": []
   },
   "source": [
    "### <span style=\"color:red\"> In the cell below, change the cell type to Markdown and write text that describes your prior coding experience (if any) and note that this will be your first Jupyter notebook and describe the purpose of it (which is to introduce elements of a Jupyter notebook and fundamentals of Python). Experiment with different headings and subheadings, how to bold text, how to italicize, and even take a stab at embedding an image. Run the cell to generate the formatted markdown!</span>."
   ]
  },
  {
   "cell_type": "code",
   "execution_count": null,
   "id": "e3e9134a-56de-41f8-b2f8-1990134714f5",
   "metadata": {},
   "outputs": [],
   "source": []
  },
  {
   "cell_type": "markdown",
   "id": "91678cd8-5558-47b4-bb56-42d2385274a4",
   "metadata": {},
   "source": [
    "### After your descriptive introductory text, the next cell is usually where you find your \"import\" statements. Python itself comes with a limited number of built-in functions (https://docs.python.org/3/library/functions.html), such as:\n",
    "* `print()` : prints expressions out\n",
    "* `abs()` :  returns the absolute value of a number\n",
    "* `int()` :  converts another data type to an integer\n",
    "* `len()`: returns the length of a sequence or collection\n",
    "\n",
    "### To be able to perform advanced computations and produce sophisticated code and data visualizations, one must import specific Python _modules_, _packages_, or _libraries_ designed for specific tasks. \n",
    "\n",
    "### In the cell below, we import the Numerical Python library (NumPy) and assign it an __alias__ of np. The point of assigning aliases is so we do not have to type the entire package name each time we want to call a function from it within our code (this will become more clear later on)."
   ]
  },
  {
   "cell_type": "code",
   "execution_count": 4,
   "id": "ee09737a-2c2e-4fe5-8f4c-e415afb36a29",
   "metadata": {
    "tags": []
   },
   "outputs": [],
   "source": [
    "# anything within a code cell preceeded by a '#' is considered a \"comment\" and thus is not executed.\n",
    "# import the entire numpy library, giving it the alias 'np'\n",
    "import numpy as np\n",
    "\n",
    "# import the matplotlib library for plotting, giving it the alias 'plt'\n",
    "import matplotlib.pyplot as plt  "
   ]
  },
  {
   "cell_type": "markdown",
   "id": "06675175-cbfc-42e9-94f2-3d5108ba6ab4",
   "metadata": {},
   "source": [
    "### After your import statements, you will want to set up some settings within your notebook. The statements in the cell below preceeded by the % sign are referred to as 'magic functions'. You do not need to know the details of these now besides the following:\n",
    ">`%matplotlib inline`:  the output of plotting commands is displayed inline, directly below the code cell that produced it. The resulting plots will then also be stored in the notebook document.\n",
    ">`%config InlineBackend.figure_format='retina'`: to render higher resolution images [more details can be found here: https://ryanwingate.com/visualization/matplotlib/inline-backend-on-retina-displays/]\n",
    "> `plt.rcParams['figure.figsize'] = 12,6`: sets the default figure size to 12 x 6 "
   ]
  },
  {
   "cell_type": "code",
   "execution_count": 6,
   "id": "e5743e56-a5bd-44a9-bb89-ef2fd2ad8892",
   "metadata": {
    "tags": []
   },
   "outputs": [],
   "source": [
    "%matplotlib inline                           \n",
    "%config InlineBackend.figure_format='retina' \n",
    "plt.rcParams['figure.figsize'] = 12,6   "
   ]
  },
  {
   "cell_type": "markdown",
   "id": "de8cf1eb-1ba2-48bd-b31f-aa37cacaaec1",
   "metadata": {
    "tags": []
   },
   "source": [
    "### Our very first Python program can be a single line using the built-in `print` function:"
   ]
  },
  {
   "cell_type": "code",
   "execution_count": 1,
   "id": "f408fb5c-9b9a-4c6f-82ad-7df15790425a",
   "metadata": {},
   "outputs": [
    {
     "name": "stdout",
     "output_type": "stream",
     "text": [
      "Hello World!\n",
      "6\n"
     ]
    }
   ],
   "source": [
    "print(\"Hello World!\") ## the print function prints out the expression inside of the ( ).\n",
    "print(2+4)"
   ]
  },
  {
   "cell_type": "markdown",
   "id": "18787479-add6-4911-b5c0-ce532251f159",
   "metadata": {},
   "source": [
    "<span style=\"color:red\">__STUDENTS__: Change the (2+4) in the second line above to (\"2+4\"). How does the output change? _Why?_</span>"
   ]
  },
  {
   "cell_type": "markdown",
   "id": "080dafb1-ec4d-45d7-b681-84109efe174d",
   "metadata": {},
   "source": [
    "### Congrats, you've written your first Python program!! We can also use Python to do some basic math for us:"
   ]
  },
  {
   "cell_type": "code",
   "execution_count": 17,
   "id": "77ea7164-903f-4652-ab0f-7024d1b18801",
   "metadata": {
    "tags": []
   },
   "outputs": [
    {
     "data": {
      "text/plain": [
       "4"
      ]
     },
     "execution_count": 17,
     "metadata": {},
     "output_type": "execute_result"
    }
   ],
   "source": [
    "2 + 2 # addition"
   ]
  },
  {
   "cell_type": "code",
   "execution_count": 18,
   "id": "ec6e6698-023d-4e2b-b96e-aec013c23d53",
   "metadata": {
    "tags": []
   },
   "outputs": [
    {
     "data": {
      "text/plain": [
       "128"
      ]
     },
     "execution_count": 18,
     "metadata": {},
     "output_type": "execute_result"
    }
   ],
   "source": [
    "4 ** 2 # exponentiation: 4 squared.\n",
    "2 ** 7 # exponentiation: 2 to the power of 7."
   ]
  },
  {
   "cell_type": "code",
   "execution_count": 19,
   "id": "18b35ab3-7b39-4031-bbe8-e9c4ee01e5e2",
   "metadata": {
    "tags": []
   },
   "outputs": [
    {
     "data": {
      "text/plain": [
       "5.666666666666667"
      ]
     },
     "execution_count": 19,
     "metadata": {},
     "output_type": "execute_result"
    }
   ],
   "source": [
    "17 / 3 # classic division, always returns a float (see more below)"
   ]
  },
  {
   "cell_type": "code",
   "execution_count": 20,
   "id": "273bc252-1268-4262-acc1-54abcd244a09",
   "metadata": {
    "tags": []
   },
   "outputs": [
    {
     "data": {
      "text/plain": [
       "5"
      ]
     },
     "execution_count": 20,
     "metadata": {},
     "output_type": "execute_result"
    }
   ],
   "source": [
    "17 // 3 # floor division discards the fractional part"
   ]
  },
  {
   "cell_type": "code",
   "execution_count": 21,
   "id": "a3836d86-f71c-4e42-acbe-c257163e5acf",
   "metadata": {
    "tags": []
   },
   "outputs": [
    {
     "data": {
      "text/plain": [
       "2"
      ]
     },
     "execution_count": 21,
     "metadata": {},
     "output_type": "execute_result"
    }
   ],
   "source": [
    "17 % 3 # the % operator returns the remainder of the division"
   ]
  },
  {
   "cell_type": "code",
   "execution_count": 22,
   "id": "1d38388f-a630-406d-a454-ee01d8c88778",
   "metadata": {
    "tags": []
   },
   "outputs": [
    {
     "data": {
      "text/plain": [
       "0.25"
      ]
     },
     "execution_count": 22,
     "metadata": {},
     "output_type": "execute_result"
    }
   ],
   "source": [
    "(0.5) * (0.5) # multiplicaton"
   ]
  },
  {
   "cell_type": "code",
   "execution_count": 23,
   "id": "8bbc26b4-0215-4b7e-9841-2be215062b5c",
   "metadata": {
    "tags": []
   },
   "outputs": [
    {
     "data": {
      "text/plain": [
       "-1"
      ]
     },
     "execution_count": 23,
     "metadata": {},
     "output_type": "execute_result"
    }
   ],
   "source": [
    "4 - 5 # subtraction"
   ]
  },
  {
   "cell_type": "code",
   "execution_count": 24,
   "id": "7a414d3e-32b8-4e69-a2c2-cf24c72cacf7",
   "metadata": {
    "tags": []
   },
   "outputs": [
    {
     "data": {
      "text/plain": [
       "1"
      ]
     },
     "execution_count": 24,
     "metadata": {},
     "output_type": "execute_result"
    }
   ],
   "source": [
    "# rounding\n",
    "round(9 / 10)"
   ]
  },
  {
   "cell_type": "code",
   "execution_count": 25,
   "id": "00a7f057-637d-4d44-800f-a087f40a768d",
   "metadata": {
    "tags": []
   },
   "outputs": [
    {
     "data": {
      "text/plain": [
       "40000000.0"
      ]
     },
     "execution_count": 25,
     "metadata": {},
     "output_type": "execute_result"
    }
   ],
   "source": [
    "# scientific notation\n",
    "4e7"
   ]
  },
  {
   "cell_type": "code",
   "execution_count": 78,
   "id": "c28cced9-2151-4096-844e-c01fd209387a",
   "metadata": {
    "tags": []
   },
   "outputs": [
    {
     "data": {
      "text/plain": [
       "True"
      ]
     },
     "execution_count": 78,
     "metadata": {},
     "output_type": "execute_result"
    }
   ],
   "source": [
    "# logic\n",
    "True and True"
   ]
  },
  {
   "cell_type": "markdown",
   "id": "565b6f03-09bc-4d90-8628-160f8959ef0f",
   "metadata": {},
   "source": [
    "### There are several __data types or classes__ that can exist within Python\n",
    "* Integers (`int`): numerical data __without__ a decimal place, i.e., a whole number.\n",
    "* Floating-point (`float`): numerical  data __with__ a decimal place or represented in scientific notation.\n",
    "* Character strings (`str`): character data denoted by either single quotes '' or double quotes \" \".\n",
    "* A `list`: an ordered container of objects (can be any type of object) denoted by square brackets [ ].\n",
    "* A dictionary (`dict`): a collection of __labeled__ objects. Python uses curly braces { } to create dictionaries."
   ]
  },
  {
   "cell_type": "markdown",
   "id": "462544ec-8ab2-41c5-9ac9-9a603bd081bb",
   "metadata": {
    "tags": []
   },
   "source": [
    "### <span style=\"color:red\"> Which of the outputs generated in the cells above are __ints vs. floats__ ? \n",
    "### <span style=\"color:red\"> What happens if you have an equation with mixed integers and floats? \n",
    "### <span style=\"color:red\"> Note that classic division __always__ returns a floating point number regardless of inputs. </span>\n",
    "\n",
    "#### <span style=\"color:red\"> Put your answers to the questions in the cell below:"
   ]
  },
  {
   "cell_type": "code",
   "execution_count": null,
   "id": "9e9cb565-8090-4dd2-8720-03d0ccb8db08",
   "metadata": {},
   "outputs": [],
   "source": []
  },
  {
   "cell_type": "markdown",
   "id": "e35e15bd-8d96-492b-9cc9-5c5821df19da",
   "metadata": {},
   "source": [
    "### The equal sign (`=`) is used to assign a value to a variable:"
   ]
  },
  {
   "cell_type": "code",
   "execution_count": 70,
   "id": "1c7a214b-1b81-4c9d-bb4e-bcbe212a1dae",
   "metadata": {
    "tags": []
   },
   "outputs": [
    {
     "name": "stdout",
     "output_type": "stream",
     "text": [
      "20\n"
     ]
    }
   ],
   "source": [
    "a = 12        # assign 12 to variable a\n",
    "b = 8         # assign 8 to variable b\n",
    "print(a + b)  # print the result of a + b"
   ]
  },
  {
   "cell_type": "code",
   "execution_count": 71,
   "id": "cb459bd9-a9c7-4051-a6b7-f967dc4d4352",
   "metadata": {
    "tags": []
   },
   "outputs": [
    {
     "name": "stdout",
     "output_type": "stream",
     "text": [
      "Dr. Beadling\n"
     ]
    }
   ],
   "source": [
    "# assign string Dr.Beadling to variable name\n",
    "name = \"Dr. Beadling\" ### remeber this also could have been written in single quotes: name = 'Dr. Beadling'\n",
    "print(name) # print value of variable name"
   ]
  },
  {
   "cell_type": "code",
   "execution_count": 72,
   "id": "df00daea-985e-464c-bf96-dc01d5b9c998",
   "metadata": {
    "tags": []
   },
   "outputs": [
    {
     "name": "stdout",
     "output_type": "stream",
     "text": [
      "900\n"
     ]
    }
   ],
   "source": [
    "width = 20            # assign 20 to variable width\n",
    "height = 5 * 9        # assign the result of 5 * 9 to variable height\n",
    "print(width * height) # print value of (width * height)"
   ]
  },
  {
   "cell_type": "markdown",
   "id": "efcf3f0f-041a-4659-ac0c-b0b9833b95d3",
   "metadata": {},
   "source": [
    "### Your notebook will remember your previously defined variables in other cells, so you can use them in later computations."
   ]
  },
  {
   "cell_type": "code",
   "execution_count": 73,
   "id": "8c6d2ca1-c236-437a-a22d-9b32ecbba329",
   "metadata": {
    "tags": []
   },
   "outputs": [
    {
     "name": "stdout",
     "output_type": "stream",
     "text": [
      "12 8 Dr. Beadling 20 45\n"
     ]
    }
   ],
   "source": [
    "print(a,b,name,width,height)"
   ]
  },
  {
   "cell_type": "markdown",
   "id": "422c361d-fce9-4d17-a1f1-c06b2bf69416",
   "metadata": {},
   "source": [
    "### If you want to know which data type an object is, we can use Python's `type` function:"
   ]
  },
  {
   "cell_type": "code",
   "execution_count": 63,
   "id": "9b58d17a-868d-4afc-ae4e-01141669d4e8",
   "metadata": {
    "tags": []
   },
   "outputs": [
    {
     "name": "stdout",
     "output_type": "stream",
     "text": [
      "<class 'str'>\n"
     ]
    }
   ],
   "source": [
    "print(type(\"Dr. Beadling\")) "
   ]
  },
  {
   "cell_type": "code",
   "execution_count": 64,
   "id": "35748816-5dfc-4112-bcf7-3dd83866e931",
   "metadata": {
    "tags": []
   },
   "outputs": [
    {
     "name": "stdout",
     "output_type": "stream",
     "text": [
      "<class 'str'>\n"
     ]
    }
   ],
   "source": [
    "print(type(name)) "
   ]
  },
  {
   "cell_type": "code",
   "execution_count": 65,
   "id": "60bf5a0f-7a98-4072-ba15-fb1dee1afbd9",
   "metadata": {
    "tags": []
   },
   "outputs": [
    {
     "name": "stdout",
     "output_type": "stream",
     "text": [
      "<class 'int'>\n"
     ]
    }
   ],
   "source": [
    "print(type(a)) "
   ]
  },
  {
   "cell_type": "markdown",
   "id": "4dd04ef6-44d0-4f71-953c-a09ad11e604d",
   "metadata": {},
   "source": [
    "### More on list data types"
   ]
  },
  {
   "cell_type": "code",
   "execution_count": 74,
   "id": "396970cd-0998-47bd-82a2-7fab24a7652b",
   "metadata": {
    "tags": []
   },
   "outputs": [
    {
     "data": {
      "text/plain": [
       "[0, 1, 1, 2, 3, 5, 8]"
      ]
     },
     "execution_count": 74,
     "metadata": {},
     "output_type": "execute_result"
    }
   ],
   "source": [
    "mylist1 = [0, 1, 1, 2, 3, 5, 8]\n",
    "mylist1 # you could have also put print(mylist) and it would have shown the same thing"
   ]
  },
  {
   "cell_type": "code",
   "execution_count": 75,
   "id": "3d531edd-e81a-4212-8196-9460523ebe2a",
   "metadata": {
    "tags": []
   },
   "outputs": [
    {
     "data": {
      "text/plain": [
       "[2, 11, 23, 5, 10, 5, 0]"
      ]
     },
     "execution_count": 75,
     "metadata": {},
     "output_type": "execute_result"
    }
   ],
   "source": [
    "mylist2 = [2, 11, 23, 5, 10, 5, 0]\n",
    "mylist2"
   ]
  },
  {
   "cell_type": "code",
   "execution_count": 76,
   "id": "7a9bc1a6-307e-4e67-8c6c-dc36f2308a0c",
   "metadata": {
    "tags": []
   },
   "outputs": [
    {
     "name": "stdout",
     "output_type": "stream",
     "text": [
      "<class 'list'>\n"
     ]
    }
   ],
   "source": [
    "print(type(mylist1))"
   ]
  },
  {
   "cell_type": "markdown",
   "id": "7b8f5b02-b1a8-4d89-8965-bebcd6d0daac",
   "metadata": {},
   "source": [
    "### Lists can contain __any type__ of objects"
   ]
  },
  {
   "cell_type": "code",
   "execution_count": 77,
   "id": "9e106ac6-d853-4578-985f-4473a6d6387e",
   "metadata": {
    "tags": []
   },
   "outputs": [
    {
     "data": {
      "text/plain": [
       "[4, 'orange', 12, 5.0, 'yellow', 5, 0]"
      ]
     },
     "execution_count": 77,
     "metadata": {},
     "output_type": "execute_result"
    }
   ],
   "source": [
    "mylist3 = [(2 ** 2), \"orange\", a, 5.0, \"yellow\", 5, 0]\n",
    "mylist3"
   ]
  },
  {
   "cell_type": "markdown",
   "id": "fe0121d1-6b81-43e0-9eb2-cb58320d33f3",
   "metadata": {},
   "source": [
    "### <span style=\"color:red\"> Identify what __data types__ each of the object in the list above are. Put your answers as markdown in the cell below."
   ]
  },
  {
   "cell_type": "code",
   "execution_count": null,
   "id": "4a8a6968-58cc-49c3-b546-4e25334490d9",
   "metadata": {},
   "outputs": [],
   "source": []
  },
  {
   "cell_type": "markdown",
   "id": "74ef4ae6-294a-40fb-84c6-bc49533468d7",
   "metadata": {},
   "source": [
    "## How do we access data stored within a list?"
   ]
  },
  {
   "cell_type": "markdown",
   "id": "3373af95-2281-424a-bb68-31a8315640f8",
   "metadata": {},
   "source": [
    "### In Python, each __element__ within a list is assigned a specific __index__. An index is a unique integer value that represents an element's position within a list. __Indexing__ refers to the process of accessing the element.\n",
    " \n",
    "### __IMPORTANT__: Indexing in Python starts at 0, which means that the first element in a sequence has an index of 0, the second element has an index of 1, and so on. Consider the following example below:"
   ]
  },
  {
   "cell_type": "code",
   "execution_count": 87,
   "id": "df940619-ccc7-457d-a3d5-52dc71a35847",
   "metadata": {
    "tags": []
   },
   "outputs": [
    {
     "data": {
      "text/plain": [
       "['Code',\n",
       " 'Favtutor',\n",
       " 'Machine Learning',\n",
       " 'Students',\n",
       " 'Studies',\n",
       " 'java',\n",
       " 'python']"
      ]
     },
     "execution_count": 87,
     "metadata": {},
     "output_type": "execute_result"
    }
   ],
   "source": [
    "our_test_list=['Code', 'Favtutor', 'Machine Learning', 'Students', 'Studies', 'java', 'python']\n",
    "our_test_list"
   ]
  },
  {
   "cell_type": "markdown",
   "id": "8b4437d5-d26e-4f70-90cb-3973d41884fb",
   "metadata": {
    "tags": []
   },
   "source": [
    "### <span style=\"color:red\">Print the data type of the list above."
   ]
  },
  {
   "cell_type": "code",
   "execution_count": null,
   "id": "4e05c6ad-529f-4ad1-bb80-55c8f360d1dd",
   "metadata": {},
   "outputs": [],
   "source": []
  },
  {
   "cell_type": "markdown",
   "id": "b95be32b-66c4-4d7e-8b94-cd3e41e5647e",
   "metadata": {
    "tags": []
   },
   "source": [
    "### <span style=\"color:red\"> What data type are the __elements__ within the list?"
   ]
  },
  {
   "cell_type": "code",
   "execution_count": null,
   "id": "c86e277b-d7a7-4efc-82b3-ce50eb0196cb",
   "metadata": {},
   "outputs": [],
   "source": []
  },
  {
   "cell_type": "markdown",
   "id": "d6eeb676-9f9f-4e6b-9567-37c62a25751e",
   "metadata": {},
   "source": [
    "### To access elements within a list, we use square brackets [ ] where inside the brackets we pass the index value of the location we want to read. "
   ]
  },
  {
   "cell_type": "markdown",
   "id": "7f9034f9-6792-4145-aaaf-b6281b7835ff",
   "metadata": {},
   "source": [
    "### <span style=\"color:red\"> __Before__ you run the cell below, put a comment (`#`) next to each line predicting the elements you think the print statements will return based off of the description of indexing above. Were your predictions correct??"
   ]
  },
  {
   "cell_type": "code",
   "execution_count": 91,
   "id": "ffd74c4c-3711-4106-8e21-2de2848c5bea",
   "metadata": {
    "tags": []
   },
   "outputs": [
    {
     "name": "stdout",
     "output_type": "stream",
     "text": [
      "Code\n",
      "Favtutor\n"
     ]
    }
   ],
   "source": [
    "print(our_test_list[0])\n",
    "print(our_test_list[1])"
   ]
  },
  {
   "cell_type": "markdown",
   "id": "df388bff-0a3c-42b5-9bf6-08ff198b7e5a",
   "metadata": {},
   "source": [
    "### <span style=\"color:red\"> __Based on your understanding from the activity above__, write code in cell below that would print out 'python' from our_test_list:"
   ]
  },
  {
   "cell_type": "code",
   "execution_count": null,
   "id": "80bb2487-262a-446b-878a-3b26e8f0a3ed",
   "metadata": {
    "tags": []
   },
   "outputs": [],
   "source": []
  },
  {
   "cell_type": "code",
   "execution_count": null,
   "id": "7a125dd1-03a0-41a7-8ffc-700931180a3d",
   "metadata": {},
   "outputs": [],
   "source": [
    "### describe negative indexing & also using the len (length method) ...."
   ]
  },
  {
   "cell_type": "markdown",
   "id": "dc1443ca-013f-4a90-a9f8-6a1507196261",
   "metadata": {},
   "source": [
    "t is our choice whether we can pass the positive index or negative index of an element; it will return the same desired output. For here if we call ‘list[-6]’ it will still return us the string ‘Favtutor’ as output."
   ]
  },
  {
   "cell_type": "markdown",
   "id": "1d92b4ff-5dea-45e7-bc4b-e159c7362d8c",
   "metadata": {},
   "source": [
    "### How to pull out multiple elements?"
   ]
  },
  {
   "cell_type": "markdown",
   "id": "2e01e719-9feb-4efb-b84d-9e0e099faf7d",
   "metadata": {},
   "source": [
    "![](https://favtutor.com/resources/images/uploads/mceu_51042390911678942910142.png)"
   ]
  },
  {
   "cell_type": "code",
   "execution_count": null,
   "id": "a1feab28-4640-46b6-b938-798107b2f51f",
   "metadata": {},
   "outputs": [],
   "source": [
    "### what else can we do with lists ???"
   ]
  },
  {
   "cell_type": "code",
   "execution_count": null,
   "id": "d8f59bca-080d-4b3e-8cbd-00615d06114d",
   "metadata": {},
   "outputs": [],
   "source": [
    "### dictionaries ...."
   ]
  },
  {
   "cell_type": "code",
   "execution_count": null,
   "id": "687fae69-5635-42e1-88b3-4474f808a3c2",
   "metadata": {},
   "outputs": [],
   "source": [
    "### arrays ......"
   ]
  },
  {
   "cell_type": "code",
   "execution_count": null,
   "id": "03f632a0-07b2-4a65-b152-469fe60b0893",
   "metadata": {},
   "outputs": [],
   "source": [
    "### NEXT NOTEBOOK WILL GO OVER FLOW CONTROL, FUNCTIONS ...."
   ]
  },
  {
   "cell_type": "code",
   "execution_count": 28,
   "id": "b205e656-8b2c-4c3a-bd1a-ff15ee28a915",
   "metadata": {
    "tags": []
   },
   "outputs": [],
   "source": [
    "## Go through examples of each of these above.\n",
    "## How do Pandas dataframes, xarray dataarrays, datasets, numpby ndarrays fit into this?? -- Explain & show.\n",
    "## Python indexing ... this is VERY important ... see Ryan's point on this!\n",
    "## Do I want to go into loops, if, else statements etc ???\n",
    "## functions ...\n",
    "## Add some exploratory activity here at the end (give students 10 - 15 minutes, followed by brief discussion).\n",
    "## Idea ... create program (create a new cleaned up notebook based off of this one following best practices) \n",
    "## that converts degrees C into Kelvin if user provides C.\n",
    "## Students have to push their new notebook to GithHub ....\n",
    "## Important numpy functions for datascience https://thecleverprogrammer.com/2021/08/28/important-numpy-functions-for-data-science/"
   ]
  },
  {
   "cell_type": "raw",
   "id": "ace1fd94-cd97-4639-9c7e-ec802013e7af",
   "metadata": {
    "tags": []
   },
   "source": [
    "--- end with saving and shutting down the notebook --- see here: https://foundations.projectpythia.org/foundations/jupyterlab.html"
   ]
  },
  {
   "cell_type": "code",
   "execution_count": null,
   "id": "94339ddb-e0e9-425d-8bee-6482f71c917d",
   "metadata": {},
   "outputs": [],
   "source": [
    "## Next notebook .... types of data one would encounter in climate science (.txt, .csv, .json, etc). \n",
    "## Pandas ...."
   ]
  }
 ],
 "metadata": {
  "kernelspec": {
   "display_name": "Python 3 (ipykernel)",
   "language": "python",
   "name": "python3"
  },
  "language_info": {
   "codemirror_mode": {
    "name": "ipython",
    "version": 3
   },
   "file_extension": ".py",
   "mimetype": "text/x-python",
   "name": "python",
   "nbconvert_exporter": "python",
   "pygments_lexer": "ipython3",
   "version": "3.9.16"
  }
 },
 "nbformat": 4,
 "nbformat_minor": 5
}
